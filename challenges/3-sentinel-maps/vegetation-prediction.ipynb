{
 "cells": [
  {
   "cell_type": "markdown",
   "metadata": {},
   "source": [
    "## Vegetation Prediction using Sentinel-2\n",
    "\n",
    "In this computing lab, you will create a simple machine learning model to predict vegetation percentage from Sentinel-2 imagery. The Copernicus Sentinel-2 mission is organized as a constellation of identical satellites in the same orbit: Sentinel-2A launched in 2015, Sentinel-2B launched in 2017, and Sentinel-2C launched in September of this year. Each satellite carries a multispectral imager with 13 spectral bands to measure our land and vegetation.\n",
    "\n",
    "<img src=sentinel-2.jpg alt=\"Sentinel 2\" width=500>"
   ]
  },
  {
   "cell_type": "markdown",
   "metadata": {},
   "source": [
    "### 1. Learning Objectives\n",
    "The goals of this computing lab are to:\n",
    "\n",
    "1. Familiarize yourself with the structure of Sentinel-2 data\n",
    "2. Visualize sample Sentinel-2 imagery and corresponding vegetation labels\n",
    "3. Create a supervised machine learning pipeline using Pytorch Lightning and develop\n",
    "    - dataloaders\n",
    "    - data augmentations & transformations\n",
    "    - (one or more) machine learning models\n",
    "    - validation metrics"
   ]
  },
  {
   "cell_type": "markdown",
   "metadata": {},
   "source": []
  }
 ],
 "metadata": {
  "language_info": {
   "name": "python"
  }
 },
 "nbformat": 4,
 "nbformat_minor": 2
}
